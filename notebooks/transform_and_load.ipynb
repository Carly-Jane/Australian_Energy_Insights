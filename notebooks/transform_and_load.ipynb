{
 "cells": [
  {
   "cell_type": "markdown",
   "metadata": {},
   "source": [
    "Import modules"
   ]
  },
  {
   "cell_type": "code",
   "execution_count": 1,
   "metadata": {},
   "outputs": [],
   "source": [
    "import pandas as pd\n",
    "\n",
    "# from config import api_key\n",
    "import numpy as np\n",
    "import requests\n",
    "import json"
   ]
  },
  {
   "cell_type": "markdown",
   "metadata": {},
   "source": [
    "Import CSVs"
   ]
  },
  {
   "cell_type": "code",
   "execution_count": 2,
   "metadata": {},
   "outputs": [],
   "source": [
    "# Import files as DataFrames\n",
    "ff_transformed = pd.read_csv(\"../export_data/14-15.csv\")\n",
    "se_transformed = pd.read_csv(\"../export_data/17-18.csv\")\n",
    "tt_transformed = pd.read_csv(\"../export_data/20-21.csv\")"
   ]
  },
  {
   "cell_type": "markdown",
   "metadata": {},
   "source": [
    "Load into database"
   ]
  },
  {
   "cell_type": "code",
   "execution_count": null,
   "metadata": {},
   "outputs": [],
   "source": [
    "import pymongo\n",
    "\n",
    "# Setup connection to mongodb\n",
    "conn = 'mongodb://localhost:27017'\n",
    "client = pymongo.MongoClient(conn)\n",
    "\n",
    "# Create database and collection to use\n",
    "db = client['energy_db']"
   ]
  },
  {
   "cell_type": "code",
   "execution_count": null,
   "metadata": {},
   "outputs": [],
   "source": [
    "fourt_fift_energy_production = db.Fourteen_Fifteen_Energy_Production\n",
    "sevt_eight_energy_production = db.Seventeen_Eighteen_Energy_Production\n",
    "twe_twentyo_energy_production = db.Twenty_Twentyone_Energy_Production\n",
    "aus_population = db.Aus_Population\n",
    "aus_income = db.Aus_Income"
   ]
  },
  {
   "cell_type": "code",
   "execution_count": null,
   "metadata": {},
   "outputs": [],
   "source": [
    "fourt_fift_energy_production.insert_many(ff_transformed.to_dict('records'))\n",
    "sevt_eight_energy_production.insert_many(se_transformed.to_dict('records'))\n",
    "twe_twentyo_energy_production.insert_many(tt_transformed.to_dict('records'))"
   ]
  },
  {
   "cell_type": "markdown",
   "metadata": {},
   "source": [
    "Set up the data for a visualisation that shows each state renewables growth."
   ]
  },
  {
   "cell_type": "code",
   "execution_count": null,
   "metadata": {},
   "outputs": [],
   "source": [
    "ff_transformed_progression = ff_transformed[[\"State\", \"Year\", \"Renewable\"]]\n",
    "ff_transformed_progression"
   ]
  },
  {
   "cell_type": "code",
   "execution_count": null,
   "metadata": {},
   "outputs": [],
   "source": [
    "ff_transformed_progression_renewable = ff_transformed_progression.loc[ff_transformed_progression[\"Renewable\"] == True]\n",
    "ff_transformed_progression_renewable\n",
    "\n",
    "# group dataframe by State\n",
    "ff_transformed_progression_renewable_grouped = ff_transformed_progression_renewable.groupby([\"State\"], as_index=False).count()\n",
    "ff_transformed_progression_renewable_grouped\n",
    "\n",
    "# format DF\n",
    "ff_transformed_progression_renewable_grouped = ff_transformed_progression_renewable_grouped[[\"State\", \"Renewable\"]]\n",
    "ff_transformed_progression_renewable_grouped.rename(columns={'Renewable': 'Renewable_Energy_Plants_2014_2015'}, inplace=True)\n",
    "ff_transformed_progression_renewable_grouped"
   ]
  },
  {
   "cell_type": "code",
   "execution_count": null,
   "metadata": {},
   "outputs": [],
   "source": [
    "ff_transformed_progression_nonrenewable = ff_transformed_progression.loc[ff_transformed_progression[\"Renewable\"] == False]\n",
    "# ff_transformed_progression_nonrenewable\n",
    "\n",
    "# group dataframe by State\n",
    "ff_transformed_progression_nonrenewable_grouped = ff_transformed_progression_nonrenewable.groupby([\"State\"], as_index=False).count()\n",
    "# ff_transformed_progression_nonrenewable_grouped\n",
    "\n",
    "# format DF\n",
    "ff_transformed_progression_nonrenewable_grouped = ff_transformed_progression_nonrenewable_grouped[[\"State\", \"Renewable\"]]\n",
    "ff_transformed_progression_nonrenewable_grouped.rename(columns={'Renewable': 'Non_Renewable_Energy_Plants_2014_2015'}, inplace=True)\n",
    "ff_transformed_progression_nonrenewable_grouped"
   ]
  },
  {
   "cell_type": "code",
   "execution_count": null,
   "metadata": {},
   "outputs": [],
   "source": [
    "energy_progression_merged = pd.merge(ff_transformed_progression_renewable_grouped, ff_transformed_progression_nonrenewable_grouped, how=\"left\", on=[\"State\", \"State\"])\n",
    "# energy_progression_merged"
   ]
  },
  {
   "cell_type": "code",
   "execution_count": null,
   "metadata": {},
   "outputs": [],
   "source": [
    "se_transformed_progression = se_transformed[[\"State\", \"Year\", \"Renewable\"]]\n",
    "se_transformed_progression.head(2)"
   ]
  },
  {
   "cell_type": "code",
   "execution_count": null,
   "metadata": {},
   "outputs": [],
   "source": [
    "se_transformed_progression_renewable = se_transformed_progression.loc[se_transformed_progression[\"Renewable\"] == True]\n",
    "# se_transformed_progression_renewable\n",
    "\n",
    "# group dataframe by State\n",
    "se_transformed_progression_renewable_grouped = se_transformed_progression_renewable.groupby([\"State\"], as_index=False).count()\n",
    "# se_transformed_progression_renewable_grouped\n",
    "\n",
    "# format DF\n",
    "se_transformed_progression_renewable_grouped = se_transformed_progression_renewable_grouped[[\"State\", \"Renewable\"]]\n",
    "se_transformed_progression_renewable_grouped.rename(columns={'Renewable': 'Renewable_Energy_Plants_2017_2018'}, inplace=True)\n",
    "se_transformed_progression_renewable_grouped"
   ]
  },
  {
   "cell_type": "code",
   "execution_count": null,
   "metadata": {},
   "outputs": [],
   "source": [
    "energy_progression_merged = pd.merge(energy_progression_merged, se_transformed_progression_renewable_grouped, how=\"left\", on=[\"State\", \"State\"])\n",
    "# energy_progression_merged"
   ]
  },
  {
   "cell_type": "code",
   "execution_count": null,
   "metadata": {},
   "outputs": [],
   "source": [
    "se_transformed_progression_nonrenewable = se_transformed_progression.loc[se_transformed_progression[\"Renewable\"] == False]\n",
    "# se_transformed_progression_nonrenewable\n",
    "\n",
    "# group dataframe by State\n",
    "se_transformed_progression_nonrenewable_grouped = se_transformed_progression_nonrenewable.groupby([\"State\"], as_index=False).count()\n",
    "# se_transformed_progression_nonrenewable_grouped\n",
    "\n",
    "# format DF\n",
    "se_transformed_progression_nonrenewable_grouped = se_transformed_progression_nonrenewable_grouped[[\"State\", \"Renewable\"]]\n",
    "se_transformed_progression_nonrenewable_grouped.rename(columns={'Renewable': 'Non_Renewable_Energy_Plants_2017_2018'}, inplace=True)\n",
    "se_transformed_progression_nonrenewable_grouped"
   ]
  },
  {
   "cell_type": "code",
   "execution_count": null,
   "metadata": {},
   "outputs": [],
   "source": [
    "energy_progression_merged = pd.merge(energy_progression_merged, se_transformed_progression_nonrenewable_grouped, how=\"left\", on=[\"State\", \"State\"])\n",
    "# energy_progression_merged"
   ]
  },
  {
   "cell_type": "code",
   "execution_count": null,
   "metadata": {},
   "outputs": [],
   "source": [
    "tt_transformed_progression = tt_transformed[[\"State\", \"Year\", \"Renewable\"]]\n",
    "tt_transformed_progression.head(2)"
   ]
  },
  {
   "cell_type": "code",
   "execution_count": null,
   "metadata": {},
   "outputs": [],
   "source": [
    "tt_transformed_progression_renewable = tt_transformed_progression.loc[tt_transformed_progression[\"Renewable\"] == True]\n",
    "# tt_transformed_progression_renewable\n",
    "\n",
    "# group dataframe by State\n",
    "tt_transformed_progression_renewable_grouped = tt_transformed_progression_renewable.groupby([\"State\"], as_index=False).count()\n",
    "# tt_transformed_progression_renewable_grouped\n",
    "\n",
    "# format DF\n",
    "tt_transformed_progression_renewable_grouped = tt_transformed_progression_renewable_grouped[[\"State\", \"Renewable\"]]\n",
    "tt_transformed_progression_renewable_grouped.rename(columns={'Renewable': 'Renewable_Energy_Plants_2020_2021'}, inplace=True)\n",
    "tt_transformed_progression_renewable_grouped"
   ]
  },
  {
   "cell_type": "code",
   "execution_count": null,
   "metadata": {},
   "outputs": [],
   "source": [
    "energy_progression_merged = pd.merge(energy_progression_merged, tt_transformed_progression_renewable_grouped, how=\"left\", on=[\"State\", \"State\"])\n",
    "# energy_progression_merged"
   ]
  },
  {
   "cell_type": "code",
   "execution_count": null,
   "metadata": {},
   "outputs": [],
   "source": [
    "tt_transformed_progression_nonrenewable = tt_transformed_progression.loc[tt_transformed_progression[\"Renewable\"] == False]\n",
    "# tt_transformed_progression_nonrenewable\n",
    "\n",
    "# group dataframe by State\n",
    "tt_transformed_progression_nonrenewable_grouped = tt_transformed_progression_nonrenewable.groupby([\"State\"], as_index=False).count()\n",
    "# tt_transformed_progression_nonrenewable_grouped\n",
    "\n",
    "# format DF\n",
    "tt_transformed_progression_nonrenewable_grouped = tt_transformed_progression_nonrenewable_grouped[[\"State\", \"Renewable\"]]\n",
    "tt_transformed_progression_nonrenewable_grouped.rename(columns={'Renewable': 'Non_Renewable_Energy_Plants_2020_2021'}, inplace=True)\n",
    "tt_transformed_progression_nonrenewable_grouped"
   ]
  },
  {
   "cell_type": "code",
   "execution_count": null,
   "metadata": {},
   "outputs": [],
   "source": [
    "energy_progression_merged = pd.merge(energy_progression_merged, tt_transformed_progression_nonrenewable_grouped, how=\"left\", on=[\"State\", \"State\"])\n",
    "energy_progression_merged = energy_progression_merged.fillna(0)\n",
    "energy_progression_merged"
   ]
  },
  {
   "cell_type": "code",
   "execution_count": null,
   "metadata": {},
   "outputs": [],
   "source": [
    "# column for:\n",
    "# year\n",
    "# act r\n",
    "# act nr\n",
    "# nsw r\n",
    "# nsw nr"
   ]
  },
  {
   "cell_type": "markdown",
   "metadata": {},
   "source": [
    "Which state produces the most energy per capita? \n",
    "\n",
    "Divided into renewable vs non renewable."
   ]
  },
  {
   "cell_type": "code",
   "execution_count": null,
   "metadata": {},
   "outputs": [],
   "source": [
    "# Read in CSV\n",
    "population_summary = pd.read_csv(\"../data/state_population_summary.csv\")\n",
    "\n",
    "# format DF\n",
    "population_summary.rename(columns={\"Unnamed: 0\": \"State\", \"Total\": \"Population_Total\"}, inplace=True)\n",
    "population_summary = population_summary[[\"State\", \"Population_Total\"]]\n",
    "\n",
    "# Removing the Australia(b) total line in index 8\n",
    "population_summary = population_summary.drop(8)\n",
    "\n",
    "population_summary"
   ]
  },
  {
   "cell_type": "code",
   "execution_count": null,
   "metadata": {},
   "outputs": [],
   "source": [
    "population_summary.at[0, 'State'] = \"NSW\"\n",
    "population_summary.at[1, 'State'] = \"VIC\"\n",
    "population_summary.at[2, 'State'] = \"QLD\"\n",
    "population_summary.at[3, 'State'] = \"SA\"\n",
    "population_summary.at[4, 'State'] = \"WA\"\n",
    "population_summary.at[5, 'State'] = \"TAS\"\n",
    "population_summary.at[6, 'State'] = \"NT\"\n",
    "population_summary.at[7, 'State'] = \"ACT\"\n",
    "population_summary"
   ]
  },
  {
   "cell_type": "code",
   "execution_count": null,
   "metadata": {},
   "outputs": [],
   "source": [
    "tt_eppc = tt_transformed[[\"State\", \"Electricity_Production_MWh\", \"Renewable\"]]\n",
    "# tt_eppc\n",
    "\n",
    "tt_eppc_renewable = tt_eppc.loc[tt_eppc[\"Renewable\"] == True]\n",
    "# tt_eppc_renewable\n",
    "\n",
    "tt_eppc_renewable = tt_eppc_renewable[[\"State\", \"Electricity_Production_MWh\"]]\n",
    "# tt_eppc_renewable\n",
    "\n",
    "tt_eppc_renewable.replace(',','', regex=True, inplace=True)\n",
    "tt_eppc_renewable = tt_eppc_renewable.fillna(0)\n",
    "\n",
    "# convert column \"a\" of a DataFrame\n",
    "tt_eppc_renewable[\"Electricity_Production_MWh\"] = pd.to_numeric(tt_eppc_renewable[\"Electricity_Production_MWh\"])\n",
    "tt_eppc_renewable\n",
    "\n",
    "# group dataframe by State\n",
    "tt_eppc_renewable_grouped = tt_eppc_renewable.groupby([\"State\"], as_index=False).sum()\n",
    "# tt_eppc_renewable_grouped\n",
    "\n",
    "# format DF\n",
    "tt_eppc_renewable_grouped.rename(columns={'Electricity_Production_MWh': 'Renewable_Electricity_Production_MWh'}, inplace=True)\n",
    "tt_eppc_renewable_grouped"
   ]
  },
  {
   "cell_type": "code",
   "execution_count": null,
   "metadata": {},
   "outputs": [],
   "source": [
    "tt_eppc = tt_transformed[[\"State\", \"Electricity_Production_MWh\", \"Renewable\"]]\n",
    "# tt_eppc\n",
    "\n",
    "tt_eppc_non_renewable = tt_eppc.loc[tt_eppc[\"Renewable\"] == False]\n",
    "# tt_eppc_non_renewable\n",
    "\n",
    "tt_eppc_non_renewable = tt_eppc_non_renewable[[\"State\", \"Electricity_Production_MWh\"]]\n",
    "# tt_eppc_non_renewable\n",
    "\n",
    "tt_eppc_non_renewable.replace(',','', regex=True, inplace=True)\n",
    "tt_eppc_non_renewable = tt_eppc_non_renewable.fillna(0)\n",
    "\n",
    "# convert column \"a\" of a DataFrame\n",
    "tt_eppc_non_renewable[\"Electricity_Production_MWh\"] = pd.to_numeric(tt_eppc_non_renewable[\"Electricity_Production_MWh\"])\n",
    "tt_eppc_non_renewable\n",
    "\n",
    "# group dataframe by State\n",
    "tt_eppc_non_renewable_grouped = tt_eppc_non_renewable.groupby([\"State\"], as_index=False).sum()\n",
    "# tt_eppc_non_renewable_grouped\n",
    "\n",
    "# format DF\n",
    "tt_eppc_non_renewable_grouped.rename(columns={'Electricity_Production_MWh': 'Non_Renewable_Electricity_Production_MWh'}, inplace=True)\n",
    "tt_eppc_non_renewable_grouped"
   ]
  },
  {
   "cell_type": "code",
   "execution_count": null,
   "metadata": {},
   "outputs": [],
   "source": [
    "eppc_merged = pd.merge(tt_eppc_renewable_grouped, tt_eppc_non_renewable_grouped, how=\"left\", on=[\"State\", \"State\"])\n",
    "eppc_merged\n",
    "\n",
    "eppc_merged = eppc_merged.fillna(0)\n",
    "\n",
    "eppc_merged"
   ]
  },
  {
   "cell_type": "code",
   "execution_count": null,
   "metadata": {},
   "outputs": [],
   "source": [
    "eppc_merged = pd.merge(eppc_merged, population_summary, how=\"left\", on=[\"State\", \"State\"])\n",
    "eppc_merged"
   ]
  },
  {
   "cell_type": "code",
   "execution_count": null,
   "metadata": {},
   "outputs": [],
   "source": [
    "# create a column for \"Per Student Budget\" in the school_summary_merge dataframe\n",
    "eppc_merged['Renewable_MWh_Per_Capita'] = eppc_merged['Renewable_Electricity_Production_MWh'] / eppc_merged['Population_Total'] \n",
    "eppc_merged['Non_Renewable_MWh_Per_Capita'] = eppc_merged['Non_Renewable_Electricity_Production_MWh'] / eppc_merged['Population_Total'] \n",
    "\n",
    "eppc_merged"
   ]
  },
  {
   "cell_type": "code",
   "execution_count": null,
   "metadata": {},
   "outputs": [],
   "source": [
    "energy_production_per_capita = eppc_merged[[\"State\", \"Renewable_MWh_Per_Capita\", \"Non_Renewable_MWh_Per_Capita\"]]\n",
    "energy_production_per_capita"
   ]
  },
  {
   "cell_type": "markdown",
   "metadata": {},
   "source": [
    "Do states with a higher population have a higher percentage of renewable energy production?\n",
    "\n",
    "State population vs the % of energy productions that is renewable."
   ]
  },
  {
   "cell_type": "code",
   "execution_count": null,
   "metadata": {},
   "outputs": [],
   "source": [
    "population_renewable_energy = eppc_merged[[\"State\", \"Population_Total\", \"Renewable_MWh_Per_Capita\"]]\n",
    "population_renewable_energy"
   ]
  },
  {
   "cell_type": "markdown",
   "metadata": {},
   "source": [
    "Do states with a higher median income have a higher percentage of renewable energy production? State median income vs the % of energy productions that is renewable."
   ]
  },
  {
   "cell_type": "code",
   "execution_count": null,
   "metadata": {},
   "outputs": [],
   "source": [
    "# Read in CSV\n",
    "income_summary = pd.read_csv(\"../data/state_income_summary.csv\")\n",
    "income_summary\n",
    "\n",
    "# Removing the Australia(b) total line in index 8\n",
    "income_summary = income_summary.drop(8)\n",
    "\n",
    "income_summary"
   ]
  },
  {
   "cell_type": "code",
   "execution_count": null,
   "metadata": {},
   "outputs": [],
   "source": [
    "# Change state names to acronyms\n",
    "\n",
    "income_summary.at[0, 'State'] = \"NSW\"\n",
    "income_summary.at[1, 'State'] = \"VIC\"\n",
    "income_summary.at[2, 'State'] = \"QLD\"\n",
    "income_summary.at[3, 'State'] = \"SA\"\n",
    "income_summary.at[4, 'State'] = \"WA\"\n",
    "income_summary.at[5, 'State'] = \"TAS\"\n",
    "income_summary.at[6, 'State'] = \"NT\"\n",
    "income_summary.at[7, 'State'] = \"ACT\"\n",
    "income_summary"
   ]
  },
  {
   "cell_type": "code",
   "execution_count": null,
   "metadata": {},
   "outputs": [],
   "source": [
    "income_renewable_energy = pd.merge(population_renewable_energy, income_summary, how=\"left\", on=[\"State\", \"State\"])\n",
    "income_renewable_energy"
   ]
  },
  {
   "cell_type": "code",
   "execution_count": null,
   "metadata": {},
   "outputs": [],
   "source": [
    "income_renewable_energy = income_renewable_energy[[\"State\", \"Median_Income\", \"Renewable_MWh_Per_Capita\"]]\n",
    "income_renewable_energy"
   ]
  },
  {
   "cell_type": "code",
   "execution_count": 3,
   "metadata": {},
   "outputs": [],
   "source": [
    "ff_transformed_production = ff_transformed[[\"State\", \"Year\", \"Renewable\", \"Electricity_Production_GJ\", \"Electricity_Production_MWh\"]]\n",
    "ff_transformed_production_r = ff_transformed_production.loc[ff_transformed_production[\"Renewable\"] == True].groupby([\"State\"], as_index=False).sum()\n",
    "ff_transformed_production_r['Year'] = 2015\n",
    "\n",
    "ff_transformed_production_nr = ff_transformed_production.loc[ff_transformed_production[\"Renewable\"] != True].groupby([\"State\"], as_index=False).sum()\n",
    "ff_transformed_production_nr['Year'] = 2015"
   ]
  },
  {
   "cell_type": "code",
   "execution_count": 4,
   "metadata": {},
   "outputs": [],
   "source": [
    "se_transformed.replace(',','', regex=True, inplace=True)\n",
    "\n",
    "se_transformed[\"Electricity_Production_GJ\"] = pd.to_numeric(se_transformed[\"Electricity_Production_GJ\"])\n",
    "se_transformed[\"Electricity_Production_MWh\"] = pd.to_numeric(se_transformed[\"Electricity_Production_MWh\"])\n",
    "\n",
    "se_transformed_production = se_transformed[[\"State\", \"Year\", \"Renewable\", \"Electricity_Production_GJ\", \"Electricity_Production_MWh\"]]\n",
    "se_transformed_production_r = se_transformed_production.loc[se_transformed_production[\"Renewable\"] == True].groupby([\"State\"], as_index=False).sum()\n",
    "se_transformed_production_r['Year'] = 2017\n",
    "\n",
    "se_transformed_production_nr = se_transformed_production.loc[se_transformed_production[\"Renewable\"] != True].groupby([\"State\"], as_index=False).sum()\n",
    "se_transformed_production_nr['Year'] = 2017"
   ]
  },
  {
   "cell_type": "code",
   "execution_count": 5,
   "metadata": {},
   "outputs": [
    {
     "data": {
      "text/html": [
       "<div>\n",
       "<style scoped>\n",
       "    .dataframe tbody tr th:only-of-type {\n",
       "        vertical-align: middle;\n",
       "    }\n",
       "\n",
       "    .dataframe tbody tr th {\n",
       "        vertical-align: top;\n",
       "    }\n",
       "\n",
       "    .dataframe thead th {\n",
       "        text-align: right;\n",
       "    }\n",
       "</style>\n",
       "<table border=\"1\" class=\"dataframe\">\n",
       "  <thead>\n",
       "    <tr style=\"text-align: right;\">\n",
       "      <th></th>\n",
       "      <th>State</th>\n",
       "      <th>Renewable</th>\n",
       "      <th>Electricity_Production_GJ</th>\n",
       "      <th>Electricity_Production_MWh</th>\n",
       "      <th>Year</th>\n",
       "    </tr>\n",
       "  </thead>\n",
       "  <tbody>\n",
       "    <tr>\n",
       "      <th>0</th>\n",
       "      <td>NSW</td>\n",
       "      <td>False</td>\n",
       "      <td>189359978</td>\n",
       "      <td>52599995</td>\n",
       "      <td>2021</td>\n",
       "    </tr>\n",
       "    <tr>\n",
       "      <th>1</th>\n",
       "      <td>NT</td>\n",
       "      <td>False</td>\n",
       "      <td>7710077</td>\n",
       "      <td>2141689</td>\n",
       "      <td>2021</td>\n",
       "    </tr>\n",
       "    <tr>\n",
       "      <th>2</th>\n",
       "      <td>QLD</td>\n",
       "      <td>False</td>\n",
       "      <td>213006238</td>\n",
       "      <td>59168403</td>\n",
       "      <td>2021</td>\n",
       "    </tr>\n",
       "    <tr>\n",
       "      <th>3</th>\n",
       "      <td>SA</td>\n",
       "      <td>False</td>\n",
       "      <td>19148055</td>\n",
       "      <td>5318902</td>\n",
       "      <td>2021</td>\n",
       "    </tr>\n",
       "    <tr>\n",
       "      <th>4</th>\n",
       "      <td>TAS</td>\n",
       "      <td>False</td>\n",
       "      <td>311981</td>\n",
       "      <td>86661</td>\n",
       "      <td>2021</td>\n",
       "    </tr>\n",
       "    <tr>\n",
       "      <th>5</th>\n",
       "      <td>VIC</td>\n",
       "      <td>False</td>\n",
       "      <td>127437836</td>\n",
       "      <td>35399396</td>\n",
       "      <td>2021</td>\n",
       "    </tr>\n",
       "    <tr>\n",
       "      <th>6</th>\n",
       "      <td>WA</td>\n",
       "      <td>False</td>\n",
       "      <td>73671218</td>\n",
       "      <td>20464224</td>\n",
       "      <td>2021</td>\n",
       "    </tr>\n",
       "  </tbody>\n",
       "</table>\n",
       "</div>"
      ],
      "text/plain": [
       "  State  Renewable  Electricity_Production_GJ  Electricity_Production_MWh  \\\n",
       "0   NSW      False                  189359978                    52599995   \n",
       "1    NT      False                    7710077                     2141689   \n",
       "2   QLD      False                  213006238                    59168403   \n",
       "3    SA      False                   19148055                     5318902   \n",
       "4   TAS      False                     311981                       86661   \n",
       "5   VIC      False                  127437836                    35399396   \n",
       "6    WA      False                   73671218                    20464224   \n",
       "\n",
       "   Year  \n",
       "0  2021  \n",
       "1  2021  \n",
       "2  2021  \n",
       "3  2021  \n",
       "4  2021  \n",
       "5  2021  \n",
       "6  2021  "
      ]
     },
     "execution_count": 5,
     "metadata": {},
     "output_type": "execute_result"
    }
   ],
   "source": [
    "tt_transformed.replace(',','', regex=True, inplace=True)\n",
    "tt_transformed[\"Electricity_Production_GJ\"] = pd.to_numeric(tt_transformed[\"Electricity_Production_GJ\"])\n",
    "tt_transformed[\"Electricity_Production_MWh\"] = pd.to_numeric(tt_transformed[\"Electricity_Production_MWh\"])\n",
    "\n",
    "tt_transformed_production = tt_transformed[[\"State\", \"Year\", \"Renewable\", \"Electricity_Production_GJ\", \"Electricity_Production_MWh\"]]\n",
    "tt_transformed_production_r = tt_transformed_production.loc[tt_transformed_production[\"Renewable\"] == True].groupby([\"State\"], as_index=False).sum()\n",
    "tt_transformed_production_r['Year'] = 2021\n",
    "\n",
    "tt_transformed_production_nr = tt_transformed_production.loc[tt_transformed_production[\"Renewable\"] != True].groupby([\"State\"], as_index=False).sum()\n",
    "tt_transformed_production_nr['Year'] = 2021\n",
    "tt_transformed_production_nr"
   ]
  },
  {
   "cell_type": "code",
   "execution_count": 6,
   "metadata": {},
   "outputs": [],
   "source": [
    "renewable_totals = pd.concat([ff_transformed_production_r, se_transformed_production_r, tt_transformed_production_r])\n",
    "non_renewable_totals = pd.concat([ff_transformed_production_nr, se_transformed_production_nr, tt_transformed_production_nr])"
   ]
  },
  {
   "cell_type": "markdown",
   "metadata": {},
   "source": [
    "# FINAL LIST OF ALL CUSTOM DATA FRAMES FOR VISUALISATIONS"
   ]
  },
  {
   "cell_type": "code",
   "execution_count": 2,
   "metadata": {},
   "outputs": [
    {
     "ename": "NameError",
     "evalue": "name 'income_renewable_energy' is not defined",
     "output_type": "error",
     "traceback": [
      "\u001b[0;31m---------------------------------------------------------------------------\u001b[0m",
      "\u001b[0;31mNameError\u001b[0m                                 Traceback (most recent call last)",
      "\u001b[0;32m<ipython-input-2-6ee1bdb7155b>\u001b[0m in \u001b[0;36m<module>\u001b[0;34m()\u001b[0m\n\u001b[0;32m----> 1\u001b[0;31m \u001b[0mincome_renewable_energy\u001b[0m\u001b[0;34m\u001b[0m\u001b[0;34m\u001b[0m\u001b[0m\n\u001b[0m",
      "\u001b[0;31mNameError\u001b[0m: name 'income_renewable_energy' is not defined"
     ]
    }
   ],
   "source": [
    "income_renewable_energy"
   ]
  },
  {
   "cell_type": "code",
   "execution_count": 77,
   "metadata": {},
   "outputs": [
    {
     "data": {
      "text/html": [
       "<div>\n",
       "<style scoped>\n",
       "    .dataframe tbody tr th:only-of-type {\n",
       "        vertical-align: middle;\n",
       "    }\n",
       "\n",
       "    .dataframe tbody tr th {\n",
       "        vertical-align: top;\n",
       "    }\n",
       "\n",
       "    .dataframe thead th {\n",
       "        text-align: right;\n",
       "    }\n",
       "</style>\n",
       "<table border=\"1\" class=\"dataframe\">\n",
       "  <thead>\n",
       "    <tr style=\"text-align: right;\">\n",
       "      <th></th>\n",
       "      <th>State</th>\n",
       "      <th>Population_Total</th>\n",
       "      <th>Renewable_MWh_Per_Capita</th>\n",
       "    </tr>\n",
       "  </thead>\n",
       "  <tbody>\n",
       "    <tr>\n",
       "      <th>0</th>\n",
       "      <td>ACT</td>\n",
       "      <td>454499</td>\n",
       "      <td>0.198577</td>\n",
       "    </tr>\n",
       "    <tr>\n",
       "      <th>1</th>\n",
       "      <td>NSW</td>\n",
       "      <td>8072163</td>\n",
       "      <td>1.667720</td>\n",
       "    </tr>\n",
       "    <tr>\n",
       "      <th>2</th>\n",
       "      <td>NT</td>\n",
       "      <td>232605</td>\n",
       "      <td>0.053782</td>\n",
       "    </tr>\n",
       "    <tr>\n",
       "      <th>3</th>\n",
       "      <td>QLD</td>\n",
       "      <td>5156138</td>\n",
       "      <td>0.920545</td>\n",
       "    </tr>\n",
       "    <tr>\n",
       "      <th>4</th>\n",
       "      <td>SA</td>\n",
       "      <td>1781516</td>\n",
       "      <td>3.708707</td>\n",
       "    </tr>\n",
       "    <tr>\n",
       "      <th>5</th>\n",
       "      <td>TAS</td>\n",
       "      <td>557571</td>\n",
       "      <td>18.218186</td>\n",
       "    </tr>\n",
       "    <tr>\n",
       "      <th>6</th>\n",
       "      <td>VIC</td>\n",
       "      <td>6503491</td>\n",
       "      <td>1.471901</td>\n",
       "    </tr>\n",
       "    <tr>\n",
       "      <th>7</th>\n",
       "      <td>WA</td>\n",
       "      <td>2660026</td>\n",
       "      <td>1.381824</td>\n",
       "    </tr>\n",
       "  </tbody>\n",
       "</table>\n",
       "</div>"
      ],
      "text/plain": [
       "  State  Population_Total  Renewable_MWh_Per_Capita\n",
       "0   ACT            454499                  0.198577\n",
       "1   NSW           8072163                  1.667720\n",
       "2    NT            232605                  0.053782\n",
       "3   QLD           5156138                  0.920545\n",
       "4    SA           1781516                  3.708707\n",
       "5   TAS            557571                 18.218186\n",
       "6   VIC           6503491                  1.471901\n",
       "7    WA           2660026                  1.381824"
      ]
     },
     "execution_count": 77,
     "metadata": {},
     "output_type": "execute_result"
    }
   ],
   "source": [
    "population_renewable_energy"
   ]
  },
  {
   "cell_type": "code",
   "execution_count": null,
   "metadata": {},
   "outputs": [],
   "source": [
    "energy_production_per_capita"
   ]
  },
  {
   "cell_type": "code",
   "execution_count": 78,
   "metadata": {},
   "outputs": [
    {
     "data": {
      "text/html": [
       "<div>\n",
       "<style scoped>\n",
       "    .dataframe tbody tr th:only-of-type {\n",
       "        vertical-align: middle;\n",
       "    }\n",
       "\n",
       "    .dataframe tbody tr th {\n",
       "        vertical-align: top;\n",
       "    }\n",
       "\n",
       "    .dataframe thead th {\n",
       "        text-align: right;\n",
       "    }\n",
       "</style>\n",
       "<table border=\"1\" class=\"dataframe\">\n",
       "  <thead>\n",
       "    <tr style=\"text-align: right;\">\n",
       "      <th></th>\n",
       "      <th>State</th>\n",
       "      <th>Renewable_Energy_Plants_2014_2015</th>\n",
       "      <th>Non_Renewable_Energy_Plants_2014_2015</th>\n",
       "      <th>Renewable_Energy_Plants_2017_2018</th>\n",
       "      <th>Non_Renewable_Energy_Plants_2017_2018</th>\n",
       "      <th>Renewable_Energy_Plants_2020_2021</th>\n",
       "      <th>Non_Renewable_Energy_Plants_2020_2021</th>\n",
       "    </tr>\n",
       "  </thead>\n",
       "  <tbody>\n",
       "    <tr>\n",
       "      <th>0</th>\n",
       "      <td>ACT</td>\n",
       "      <td>4</td>\n",
       "      <td>0.0</td>\n",
       "      <td>3</td>\n",
       "      <td>0.0</td>\n",
       "      <td>5</td>\n",
       "      <td>0.0</td>\n",
       "    </tr>\n",
       "    <tr>\n",
       "      <th>1</th>\n",
       "      <td>NSW</td>\n",
       "      <td>38</td>\n",
       "      <td>32.0</td>\n",
       "      <td>45</td>\n",
       "      <td>28.0</td>\n",
       "      <td>64</td>\n",
       "      <td>22.0</td>\n",
       "    </tr>\n",
       "    <tr>\n",
       "      <th>2</th>\n",
       "      <td>NT</td>\n",
       "      <td>2</td>\n",
       "      <td>14.0</td>\n",
       "      <td>2</td>\n",
       "      <td>65.0</td>\n",
       "      <td>3</td>\n",
       "      <td>64.0</td>\n",
       "    </tr>\n",
       "    <tr>\n",
       "      <th>3</th>\n",
       "      <td>QLD</td>\n",
       "      <td>14</td>\n",
       "      <td>31.0</td>\n",
       "      <td>15</td>\n",
       "      <td>32.0</td>\n",
       "      <td>46</td>\n",
       "      <td>65.0</td>\n",
       "    </tr>\n",
       "    <tr>\n",
       "      <th>4</th>\n",
       "      <td>SA</td>\n",
       "      <td>20</td>\n",
       "      <td>15.0</td>\n",
       "      <td>25</td>\n",
       "      <td>14.0</td>\n",
       "      <td>32</td>\n",
       "      <td>17.0</td>\n",
       "    </tr>\n",
       "    <tr>\n",
       "      <th>5</th>\n",
       "      <td>TAS</td>\n",
       "      <td>35</td>\n",
       "      <td>3.0</td>\n",
       "      <td>38</td>\n",
       "      <td>1.0</td>\n",
       "      <td>39</td>\n",
       "      <td>1.0</td>\n",
       "    </tr>\n",
       "    <tr>\n",
       "      <th>6</th>\n",
       "      <td>VIC</td>\n",
       "      <td>41</td>\n",
       "      <td>22.0</td>\n",
       "      <td>47</td>\n",
       "      <td>19.0</td>\n",
       "      <td>65</td>\n",
       "      <td>20.0</td>\n",
       "    </tr>\n",
       "    <tr>\n",
       "      <th>7</th>\n",
       "      <td>WA</td>\n",
       "      <td>15</td>\n",
       "      <td>63.0</td>\n",
       "      <td>20</td>\n",
       "      <td>71.0</td>\n",
       "      <td>23</td>\n",
       "      <td>71.0</td>\n",
       "    </tr>\n",
       "  </tbody>\n",
       "</table>\n",
       "</div>"
      ],
      "text/plain": [
       "  State  Renewable_Energy_Plants_2014_2015  \\\n",
       "0   ACT                                  4   \n",
       "1   NSW                                 38   \n",
       "2    NT                                  2   \n",
       "3   QLD                                 14   \n",
       "4    SA                                 20   \n",
       "5   TAS                                 35   \n",
       "6   VIC                                 41   \n",
       "7    WA                                 15   \n",
       "\n",
       "   Non_Renewable_Energy_Plants_2014_2015  Renewable_Energy_Plants_2017_2018  \\\n",
       "0                                    0.0                                  3   \n",
       "1                                   32.0                                 45   \n",
       "2                                   14.0                                  2   \n",
       "3                                   31.0                                 15   \n",
       "4                                   15.0                                 25   \n",
       "5                                    3.0                                 38   \n",
       "6                                   22.0                                 47   \n",
       "7                                   63.0                                 20   \n",
       "\n",
       "   Non_Renewable_Energy_Plants_2017_2018  Renewable_Energy_Plants_2020_2021  \\\n",
       "0                                    0.0                                  5   \n",
       "1                                   28.0                                 64   \n",
       "2                                   65.0                                  3   \n",
       "3                                   32.0                                 46   \n",
       "4                                   14.0                                 32   \n",
       "5                                    1.0                                 39   \n",
       "6                                   19.0                                 65   \n",
       "7                                   71.0                                 23   \n",
       "\n",
       "   Non_Renewable_Energy_Plants_2020_2021  \n",
       "0                                    0.0  \n",
       "1                                   22.0  \n",
       "2                                   64.0  \n",
       "3                                   65.0  \n",
       "4                                   17.0  \n",
       "5                                    1.0  \n",
       "6                                   20.0  \n",
       "7                                   71.0  "
      ]
     },
     "execution_count": 78,
     "metadata": {},
     "output_type": "execute_result"
    }
   ],
   "source": [
    "energy_progression_merged"
   ]
  },
  {
   "cell_type": "code",
   "execution_count": null,
   "metadata": {},
   "outputs": [],
   "source": [
    "income_renewable_energy.to_csv('../export_data/income_renewable_energy.csv')\n",
    "population_renewable_energy.to_csv('../export_data/population_renewable_energy.csv')\n",
    "energy_production_per_capita.to_csv('../export_data/energy_production_per_capita.csv')\n",
    "energy_progression_merged.to_csv('../export_data/energy_progression_merged.csv')"
   ]
  },
  {
   "cell_type": "code",
   "execution_count": null,
   "metadata": {},
   "outputs": [],
   "source": [
    "renewable_totals.to_csv(\"../export_data/renewable_totals.csv\", index=False)\n",
    "non_renewable_totals.to_csv(\"../export_data/non_renewable_totals.csv\", index=False)"
   ]
  },
  {
   "cell_type": "markdown",
   "metadata": {},
   "source": [
    "Connecting to Mongo Cloud"
   ]
  },
  {
   "cell_type": "code",
   "execution_count": 51,
   "metadata": {},
   "outputs": [],
   "source": [
    "import pymongo"
   ]
  },
  {
   "cell_type": "code",
   "execution_count": 52,
   "metadata": {},
   "outputs": [],
   "source": [
    "from pymongo import MongoClient"
   ]
  },
  {
   "cell_type": "code",
   "execution_count": 55,
   "metadata": {},
   "outputs": [
    {
     "data": {
      "text/plain": [
       "Database(MongoClient(host=['energyaustralia-morgana.ckw49kl.mongodb.net:27017'], document_class=dict, tz_aware=False, connect=True, retrywrites=True, w='majority'), 'test')"
      ]
     },
     "execution_count": 75,
     "metadata": {},
     "output_type": "execute_result"
    }
   ],
   "source": [
    "db"
   ]
  },
  {
   "cell_type": "code",
   "execution_count": null,
   "metadata": {},
   "outputs": [],
   "source": [
    "# username = EACaM\n",
    "# Password = Mrsunshine1"
   ]
  }
 ],
 "metadata": {
  "kernelspec": {
   "display_name": "Python 3.6.13 ('PythonData')",
   "language": "python",
   "name": "python3"
  },
  "language_info": {
   "codemirror_mode": {
    "name": "ipython",
    "version": 3
   },
   "file_extension": ".py",
   "mimetype": "text/x-python",
   "name": "python",
   "nbconvert_exporter": "python",
   "pygments_lexer": "ipython3",
   "version": "3.6.13"
  },
  "orig_nbformat": 4,
  "vscode": {
   "interpreter": {
    "hash": "a5387b9da968551e43e0ccab31c37bebadc093c630309dcd510e17231b5b064a"
   }
  }
 },
 "nbformat": 4,
 "nbformat_minor": 2
}
