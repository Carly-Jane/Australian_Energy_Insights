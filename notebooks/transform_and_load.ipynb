{
 "cells": [
  {
   "cell_type": "markdown",
   "metadata": {},
   "source": [
    "Import modules"
   ]
  },
  {
   "cell_type": "code",
   "execution_count": null,
   "metadata": {},
   "outputs": [],
   "source": [
    "import pandas as pd\n",
    "import sqlalchemy\n",
    "from sqlalchemy.ext.automap import automap_base\n",
    "from sqlalchemy.orm import Session\n",
    "from sqlalchemy import create_engine, func, inspect, desc\n",
    "from config import api_key\n",
    "import numpy as np\n",
    "import requests\n",
    "import json"
   ]
  },
  {
   "cell_type": "markdown",
   "metadata": {},
   "source": [
    "Import CSVs"
   ]
  },
  {
   "cell_type": "code",
   "execution_count": null,
   "metadata": {},
   "outputs": [],
   "source": [
    "# Import files as DataFrames\n",
    "ff_transformed = pd.read_csv(\"transformed_csvs/14-15.csv\")\n",
    "se_transformed = pd.read_csv(\"transformed_csvs/17-18.csv\")\n",
    "tt_transformed = pd.read_csv(\"transformed_csvs/20-21.csv\")"
   ]
  },
  {
   "cell_type": "markdown",
   "metadata": {},
   "source": [
    "Load into database"
   ]
  },
  {
   "cell_type": "code",
   "execution_count": null,
   "metadata": {},
   "outputs": [],
   "source": [
    "import pymongo\n",
    "\n",
    "# Setup connection to mongodb\n",
    "conn = 'mongodb://localhost:27017'\n",
    "client = pymongo.MongoClient(conn)\n",
    "\n",
    "# Create database and collection to use\n",
    "db = client['energy_db']"
   ]
  },
  {
   "cell_type": "code",
   "execution_count": null,
   "metadata": {},
   "outputs": [],
   "source": [
    "fourt_fift_energy_production = db.Fourteen_Fifteen_Energy_Production\n",
    "sevt_eight_energy_production = db.Seventeen_Eighteen_Energy_Production\n",
    "twe_twentyo_energy_production = db.Twenty_Twentyone_Energy_Production\n",
    "aus_population = db.Aus_Population\n",
    "aus_income = db.Aus_Income"
   ]
  },
  {
   "cell_type": "code",
   "execution_count": null,
   "metadata": {},
   "outputs": [],
   "source": [
    "fourt_fift_energy_production.insert_many(ff_transformed.to_dict('records'))\n",
    "sevt_eight_energy_production.insert_many(se_transformed.to_dict('records'))\n",
    "twe_twentyo_energy_production.insert_many(tt_transformed.to_dict('records'))"
   ]
  },
  {
   "cell_type": "markdown",
   "metadata": {},
   "source": [
    "Set up the data for a visualisation that shows each state renewables growth."
   ]
  },
  {
   "cell_type": "code",
   "execution_count": null,
   "metadata": {},
   "outputs": [],
   "source": [
    "ff_transformed_progression = ff_transformed[[\"State\", \"Year\", \"Renewable\"]]\n",
    "ff_transformed_progression.head(2)"
   ]
  },
  {
   "cell_type": "code",
   "execution_count": null,
   "metadata": {},
   "outputs": [],
   "source": [
    "ff_transformed_progression_renewable = ff_transformed_progression.loc[ff_transformed_progression[\"Renewable\"] == True]\n",
    "ff_transformed_progression_renewable\n",
    "\n",
    "# group dataframe by State\n",
    "ff_transformed_progression_renewable_grouped = ff_transformed_progression_renewable.groupby([\"State\"], as_index=False).count()\n",
    "ff_transformed_progression_renewable_grouped\n",
    "\n",
    "# format DF\n",
    "ff_transformed_progression_renewable_grouped = ff_transformed_progression_renewable_grouped[[\"State\", \"Renewable\"]]\n",
    "ff_transformed_progression_renewable_grouped.rename(columns={'Renewable': 'Renewable_Energy_Plants_2014_2015'}, inplace=True)\n",
    "ff_transformed_progression_renewable_grouped"
   ]
  },
  {
   "cell_type": "code",
   "execution_count": null,
   "metadata": {},
   "outputs": [],
   "source": [
    "ff_transformed_progression_nonrenewable = ff_transformed_progression.loc[ff_transformed_progression[\"Renewable\"] == False]\n",
    "# ff_transformed_progression_nonrenewable\n",
    "\n",
    "# group dataframe by State\n",
    "ff_transformed_progression_nonrenewable_grouped = ff_transformed_progression_nonrenewable.groupby([\"State\"], as_index=False).count()\n",
    "# ff_transformed_progression_nonrenewable_grouped\n",
    "\n",
    "# format DF\n",
    "ff_transformed_progression_nonrenewable_grouped = ff_transformed_progression_nonrenewable_grouped[[\"State\", \"Renewable\"]]\n",
    "ff_transformed_progression_nonrenewable_grouped.rename(columns={'Renewable': 'Non_Renewable_Energy_Plants_2014_2015'}, inplace=True)\n",
    "ff_transformed_progression_nonrenewable_grouped"
   ]
  },
  {
   "cell_type": "code",
   "execution_count": null,
   "metadata": {},
   "outputs": [],
   "source": [
    "energy_progression_merged = pd.merge(ff_transformed_progression_renewable_grouped, ff_transformed_progression_nonrenewable_grouped, how=\"left\", on=[\"State\", \"State\"])\n",
    "# energy_progression_merged"
   ]
  },
  {
   "cell_type": "code",
   "execution_count": null,
   "metadata": {},
   "outputs": [],
   "source": [
    "se_transformed_progression = se_transformed[[\"State\", \"Year\", \"Renewable\"]]\n",
    "se_transformed_progression.head(2)"
   ]
  },
  {
   "cell_type": "code",
   "execution_count": null,
   "metadata": {},
   "outputs": [],
   "source": [
    "se_transformed_progression_renewable = se_transformed_progression.loc[se_transformed_progression[\"Renewable\"] == True]\n",
    "# se_transformed_progression_renewable\n",
    "\n",
    "# group dataframe by State\n",
    "se_transformed_progression_renewable_grouped = se_transformed_progression_renewable.groupby([\"State\"], as_index=False).count()\n",
    "# se_transformed_progression_renewable_grouped\n",
    "\n",
    "# format DF\n",
    "se_transformed_progression_renewable_grouped = se_transformed_progression_renewable_grouped[[\"State\", \"Renewable\"]]\n",
    "se_transformed_progression_renewable_grouped.rename(columns={'Renewable': 'Renewable_Energy_Plants_2017_2018'}, inplace=True)\n",
    "se_transformed_progression_renewable_grouped"
   ]
  },
  {
   "cell_type": "code",
   "execution_count": null,
   "metadata": {},
   "outputs": [],
   "source": [
    "energy_progression_merged = pd.merge(energy_progression_merged, se_transformed_progression_renewable_grouped, how=\"left\", on=[\"State\", \"State\"])\n",
    "# energy_progression_merged"
   ]
  },
  {
   "cell_type": "code",
   "execution_count": null,
   "metadata": {},
   "outputs": [],
   "source": [
    "se_transformed_progression_nonrenewable = se_transformed_progression.loc[se_transformed_progression[\"Renewable\"] == False]\n",
    "# se_transformed_progression_nonrenewable\n",
    "\n",
    "# group dataframe by State\n",
    "se_transformed_progression_nonrenewable_grouped = se_transformed_progression_nonrenewable.groupby([\"State\"], as_index=False).count()\n",
    "# se_transformed_progression_nonrenewable_grouped\n",
    "\n",
    "# format DF\n",
    "se_transformed_progression_nonrenewable_grouped = se_transformed_progression_nonrenewable_grouped[[\"State\", \"Renewable\"]]\n",
    "se_transformed_progression_nonrenewable_grouped.rename(columns={'Renewable': 'Non_Renewable_Energy_Plants_2017_2018'}, inplace=True)\n",
    "se_transformed_progression_nonrenewable_grouped"
   ]
  },
  {
   "cell_type": "code",
   "execution_count": null,
   "metadata": {},
   "outputs": [],
   "source": [
    "energy_progression_merged = pd.merge(energy_progression_merged, se_transformed_progression_nonrenewable_grouped, how=\"left\", on=[\"State\", \"State\"])\n",
    "# energy_progression_merged"
   ]
  },
  {
   "cell_type": "code",
   "execution_count": null,
   "metadata": {},
   "outputs": [],
   "source": [
    "tt_transformed_progression = tt_transformed[[\"State\", \"Year\", \"Renewable\"]]\n",
    "tt_transformed_progression.head(2)"
   ]
  },
  {
   "cell_type": "code",
   "execution_count": null,
   "metadata": {},
   "outputs": [],
   "source": [
    "tt_transformed_progression_renewable = tt_transformed_progression.loc[tt_transformed_progression[\"Renewable\"] == True]\n",
    "# tt_transformed_progression_renewable\n",
    "\n",
    "# group dataframe by State\n",
    "tt_transformed_progression_renewable_grouped = tt_transformed_progression_renewable.groupby([\"State\"], as_index=False).count()\n",
    "# tt_transformed_progression_renewable_grouped\n",
    "\n",
    "# format DF\n",
    "tt_transformed_progression_renewable_grouped = tt_transformed_progression_renewable_grouped[[\"State\", \"Renewable\"]]\n",
    "tt_transformed_progression_renewable_grouped.rename(columns={'Renewable': 'Renewable_Energy_Plants_2020_2021'}, inplace=True)\n",
    "tt_transformed_progression_renewable_grouped"
   ]
  },
  {
   "cell_type": "code",
   "execution_count": null,
   "metadata": {},
   "outputs": [],
   "source": [
    "energy_progression_merged = pd.merge(energy_progression_merged, tt_transformed_progression_renewable_grouped, how=\"left\", on=[\"State\", \"State\"])\n",
    "# energy_progression_merged"
   ]
  },
  {
   "cell_type": "code",
   "execution_count": null,
   "metadata": {},
   "outputs": [],
   "source": [
    "tt_transformed_progression_nonrenewable = tt_transformed_progression.loc[tt_transformed_progression[\"Renewable\"] == False]\n",
    "# tt_transformed_progression_nonrenewable\n",
    "\n",
    "# group dataframe by State\n",
    "tt_transformed_progression_nonrenewable_grouped = tt_transformed_progression_nonrenewable.groupby([\"State\"], as_index=False).count()\n",
    "# tt_transformed_progression_nonrenewable_grouped\n",
    "\n",
    "# format DF\n",
    "tt_transformed_progression_nonrenewable_grouped = tt_transformed_progression_nonrenewable_grouped[[\"State\", \"Renewable\"]]\n",
    "tt_transformed_progression_nonrenewable_grouped.rename(columns={'Renewable': 'Non_Renewable_Energy_Plants_2020_2021'}, inplace=True)\n",
    "tt_transformed_progression_nonrenewable_grouped"
   ]
  },
  {
   "cell_type": "code",
   "execution_count": null,
   "metadata": {},
   "outputs": [],
   "source": [
    "energy_progression_merged = pd.merge(energy_progression_merged, tt_transformed_progression_nonrenewable_grouped, how=\"left\", on=[\"State\", \"State\"])\n",
    "energy_progression_merged = energy_progression_merged.fillna(0)\n",
    "energy_progression_merged"
   ]
  },
  {
   "cell_type": "markdown",
   "metadata": {},
   "source": [
    "Which state produces the most energy per capita? \n",
    "\n",
    "Divided into renewable vs non renewable."
   ]
  },
  {
   "cell_type": "code",
   "execution_count": null,
   "metadata": {},
   "outputs": [],
   "source": [
    "# Read in CSV\n",
    "population_summary = pd.read_csv(\"state_population_summary.csv\")\n",
    "\n",
    "# format DF\n",
    "population_summary.rename(columns={\"Unnamed: 0\": \"State\", \"Total\": \"Population_Total\"}, inplace=True)\n",
    "population_summary = population_summary[[\"State\", \"Population_Total\"]]\n",
    "\n",
    "# Removing the Australia(b) total line in index 8\n",
    "population_summary = population_summary.drop(8)\n",
    "\n",
    "population_summary"
   ]
  },
  {
   "cell_type": "code",
   "execution_count": null,
   "metadata": {},
   "outputs": [],
   "source": [
    "population_summary.at[0, 'State'] = \"NSW\"\n",
    "population_summary.at[1, 'State'] = \"VIC\"\n",
    "population_summary.at[2, 'State'] = \"QLD\"\n",
    "population_summary.at[3, 'State'] = \"SA\"\n",
    "population_summary.at[4, 'State'] = \"WA\"\n",
    "population_summary.at[5, 'State'] = \"TAS\"\n",
    "population_summary.at[6, 'State'] = \"NT\"\n",
    "population_summary.at[7, 'State'] = \"ACT\"\n",
    "population_summary"
   ]
  },
  {
   "cell_type": "code",
   "execution_count": null,
   "metadata": {},
   "outputs": [],
   "source": [
    "tt_eppc = tt_transformed[[\"State\", \"Electricity_Production_MWh\", \"Renewable\"]]\n",
    "# tt_eppc\n",
    "\n",
    "tt_eppc_renewable = tt_eppc.loc[tt_eppc[\"Renewable\"] == True]\n",
    "# tt_eppc_renewable\n",
    "\n",
    "tt_eppc_renewable = tt_eppc_renewable[[\"State\", \"Electricity_Production_MWh\"]]\n",
    "# tt_eppc_renewable\n",
    "\n",
    "tt_eppc_renewable.replace(',','', regex=True, inplace=True)\n",
    "tt_eppc_renewable = tt_eppc_renewable.fillna(0)\n",
    "\n",
    "# convert column \"a\" of a DataFrame\n",
    "tt_eppc_renewable[\"Electricity_Production_MWh\"] = pd.to_numeric(tt_eppc_renewable[\"Electricity_Production_MWh\"])\n",
    "tt_eppc_renewable\n",
    "\n",
    "# group dataframe by State\n",
    "tt_eppc_renewable_grouped = tt_eppc_renewable.groupby([\"State\"], as_index=False).sum()\n",
    "# tt_eppc_renewable_grouped\n",
    "\n",
    "# format DF\n",
    "tt_eppc_renewable_grouped.rename(columns={'Electricity_Production_MWh': 'Renewable_Electricity_Production_MWh'}, inplace=True)\n",
    "tt_eppc_renewable_grouped"
   ]
  },
  {
   "cell_type": "code",
   "execution_count": null,
   "metadata": {},
   "outputs": [],
   "source": [
    "tt_eppc = tt_transformed[[\"State\", \"Electricity_Production_MWh\", \"Renewable\"]]\n",
    "# tt_eppc\n",
    "\n",
    "tt_eppc_non_renewable = tt_eppc.loc[tt_eppc[\"Renewable\"] == False]\n",
    "# tt_eppc_non_renewable\n",
    "\n",
    "tt_eppc_non_renewable = tt_eppc_non_renewable[[\"State\", \"Electricity_Production_MWh\"]]\n",
    "# tt_eppc_non_renewable\n",
    "\n",
    "tt_eppc_non_renewable.replace(',','', regex=True, inplace=True)\n",
    "tt_eppc_non_renewable = tt_eppc_non_renewable.fillna(0)\n",
    "\n",
    "# convert column \"a\" of a DataFrame\n",
    "tt_eppc_non_renewable[\"Electricity_Production_MWh\"] = pd.to_numeric(tt_eppc_non_renewable[\"Electricity_Production_MWh\"])\n",
    "tt_eppc_non_renewable\n",
    "\n",
    "# group dataframe by State\n",
    "tt_eppc_non_renewable_grouped = tt_eppc_non_renewable.groupby([\"State\"], as_index=False).sum()\n",
    "# tt_eppc_non_renewable_grouped\n",
    "\n",
    "# format DF\n",
    "tt_eppc_non_renewable_grouped.rename(columns={'Electricity_Production_MWh': 'Non_Renewable_Electricity_Production_MWh'}, inplace=True)\n",
    "tt_eppc_non_renewable_grouped"
   ]
  },
  {
   "cell_type": "code",
   "execution_count": null,
   "metadata": {},
   "outputs": [],
   "source": [
    "eppc_merged = pd.merge(tt_eppc_renewable_grouped, tt_eppc_non_renewable_grouped, how=\"left\", on=[\"State\", \"State\"])\n",
    "eppc_merged\n",
    "\n",
    "eppc_merged = eppc_merged.fillna(0)\n",
    "\n",
    "eppc_merged"
   ]
  },
  {
   "cell_type": "code",
   "execution_count": null,
   "metadata": {},
   "outputs": [],
   "source": [
    "eppc_merged = pd.merge(eppc_merged, population_summary, how=\"left\", on=[\"State\", \"State\"])\n",
    "eppc_merged"
   ]
  },
  {
   "cell_type": "code",
   "execution_count": null,
   "metadata": {},
   "outputs": [],
   "source": [
    "# create a column for \"Per Student Budget\" in the school_summary_merge dataframe\n",
    "eppc_merged['Renewable_MWh_Per_Capita'] = eppc_merged['Renewable_Electricity_Production_MWh'] / eppc_merged['Population_Total'] \n",
    "eppc_merged['Non_Renewable_MWh_Per_Capita'] = eppc_merged['Non_Renewable_Electricity_Production_MWh'] / eppc_merged['Population_Total'] \n",
    "\n",
    "eppc_merged"
   ]
  },
  {
   "cell_type": "code",
   "execution_count": null,
   "metadata": {},
   "outputs": [],
   "source": [
    "energy_production_per_capita = eppc_merged[[\"State\", \"Renewable_MWh_Per_Capita\", \"Non_Renewable_MWh_Per_Capita\"]]\n",
    "energy_production_per_capita"
   ]
  },
  {
   "cell_type": "markdown",
   "metadata": {},
   "source": [
    "Do states with a higher population have a higher percentage of renewable energy production?\n",
    "\n",
    "State population vs the % of energy productions that is renewable."
   ]
  },
  {
   "cell_type": "code",
   "execution_count": null,
   "metadata": {},
   "outputs": [],
   "source": [
    "population_renewable_energy = eppc_merged[[\"State\", \"Population_Total\", \"Renewable_MWh_Per_Capita\"]]\n",
    "population_renewable_energy"
   ]
  },
  {
   "cell_type": "markdown",
   "metadata": {},
   "source": [
    "Do states with a higher median income have a higher percentage of renewable energy production? State median income vs the % of energy productions that is renewable."
   ]
  },
  {
   "cell_type": "code",
   "execution_count": null,
   "metadata": {},
   "outputs": [],
   "source": [
    "# Read in CSV\n",
    "income_summary = pd.read_csv(\"state_income_summary.csv\")\n",
    "income_summary = income_summary[[\"Unnamed: 0\", \"Median income\"]]\n",
    "income_summary.rename(columns={'Unnamed: 0': 'State', 'Median income': 'Median_Income'}, inplace=True)\n",
    "\n",
    "# Removing the Australia(b) total line in index 8\n",
    "income_summary = income_summary.drop(8)\n",
    "\n",
    "income_summary"
   ]
  },
  {
   "cell_type": "code",
   "execution_count": null,
   "metadata": {},
   "outputs": [],
   "source": [
    "# Change state names to acronyms\n",
    "\n",
    "income_summary.at[0, 'State'] = \"NSW\"\n",
    "income_summary.at[1, 'State'] = \"VIC\"\n",
    "income_summary.at[2, 'State'] = \"QLD\"\n",
    "income_summary.at[3, 'State'] = \"SA\"\n",
    "income_summary.at[4, 'State'] = \"WA\"\n",
    "income_summary.at[5, 'State'] = \"TAS\"\n",
    "income_summary.at[6, 'State'] = \"NT\"\n",
    "income_summary.at[7, 'State'] = \"ACT\"\n",
    "income_summary"
   ]
  },
  {
   "cell_type": "code",
   "execution_count": null,
   "metadata": {},
   "outputs": [],
   "source": [
    "income_renewable_energy = pd.merge(population_renewable_energy, income_summary, how=\"left\", on=[\"State\", \"State\"])\n",
    "income_renewable_energy"
   ]
  },
  {
   "cell_type": "code",
   "execution_count": null,
   "metadata": {},
   "outputs": [],
   "source": [
    "income_renewable_energy = income_renewable_energy[[\"State\", \"Median_Income\", \"Renewable_MWh_Per_Capita\"]]\n",
    "income_renewable_energy"
   ]
  },
  {
   "cell_type": "markdown",
   "metadata": {},
   "source": [
    "# FINAL LIST OF ALL CUSTOM DATA FRAMES FOR VISUALISATIONS"
   ]
  },
  {
   "cell_type": "code",
   "execution_count": null,
   "metadata": {},
   "outputs": [],
   "source": [
    "income_renewable_energy"
   ]
  },
  {
   "cell_type": "code",
   "execution_count": null,
   "metadata": {},
   "outputs": [],
   "source": [
    "population_renewable_energy"
   ]
  },
  {
   "cell_type": "code",
   "execution_count": null,
   "metadata": {},
   "outputs": [],
   "source": [
    "energy_production_per_capita"
   ]
  },
  {
   "cell_type": "code",
   "execution_count": null,
   "metadata": {},
   "outputs": [],
   "source": [
    "energy_progression_merged"
   ]
  }
 ],
 "metadata": {
  "kernelspec": {
   "display_name": "Python 3.10.3 64-bit",
   "language": "python",
   "name": "python3"
  },
  "language_info": {
   "name": "python",
   "version": "3.10.3"
  },
  "orig_nbformat": 4,
  "vscode": {
   "interpreter": {
    "hash": "007088b134d3533d5d837a4d5cd11b8d4b327e9b455e1d9063862fd58ad4808d"
   }
  }
 },
 "nbformat": 4,
 "nbformat_minor": 2
}
