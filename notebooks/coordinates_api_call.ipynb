{
 "cells": [
  {
   "cell_type": "markdown",
   "metadata": {},
   "source": [
    "Import Modules"
   ]
  },
  {
   "cell_type": "code",
   "execution_count": null,
   "metadata": {},
   "outputs": [],
   "source": [
    "import pandas as pd\n",
    "import sqlalchemy\n",
    "from sqlalchemy.ext.automap import automap_base\n",
    "from sqlalchemy.orm import Session\n",
    "from sqlalchemy import create_engine, func, inspect, desc\n",
    "from config import api_key\n",
    "import numpy as np\n",
    "import requests\n",
    "import json"
   ]
  },
  {
   "cell_type": "markdown",
   "metadata": {},
   "source": [
    "Import files as dataframes"
   ]
  },
  {
   "cell_type": "code",
   "execution_count": null,
   "metadata": {},
   "outputs": [],
   "source": [
    "# Import files as DataFrames\n",
    "fourteen_fiftenn_pd = pd.read_csv(\"draft_data/2014-15.csv\")\n",
    "seventeen_eighteen_pd = pd.read_csv(\"draft_data/2017-18.csv\", encoding = \"ISO-8859-1\")\n",
    "twenty_twentyone = pd.read_csv(\"draft_data/2020-21.csv\", encoding = \"ISO-8859-1\")"
   ]
  },
  {
   "cell_type": "markdown",
   "metadata": {},
   "source": [
    "Initial transformation to set up for API call for lats & lngs"
   ]
  },
  {
   "cell_type": "code",
   "execution_count": null,
   "metadata": {},
   "outputs": [],
   "source": [
    "# Rename columns to be uniform across dataframes\n",
    "twenty_twentyone.rename(columns={\"Facility name\":\"Facility Name\"}, inplace=True)"
   ]
  },
  {
   "cell_type": "code",
   "execution_count": null,
   "metadata": {},
   "outputs": [],
   "source": [
    "# Remove rows of corporate total data\n",
    "fourteen_fiftenn_pd = fourteen_fiftenn_pd[fourteen_fiftenn_pd['Facility Name'] != 'Corporate Total']\n",
    "seventeen_eighteen_pd = seventeen_eighteen_pd[seventeen_eighteen_pd['Facility Name'] != 'Corporate Total']\n",
    "twenty_twentyone = twenty_twentyone[twenty_twentyone['Facility Name'] != 'Corporate Total']"
   ]
  },
  {
   "cell_type": "code",
   "execution_count": null,
   "metadata": {},
   "outputs": [],
   "source": [
    "# Drop columns of un-needed data\n",
    "fourteen_fiftenn_pd = fourteen_fiftenn_pd.drop(columns={\"Type\", \"Scope 1 (t CO2-e)\",\"Scope 2 (t CO2-e)\",\"Total Emissions (t CO2-e)\", \"Emission  Intensity (t/Mwh)\", \"Grid Connected\", \"Grid\", \"Important Notes\"})\n",
    "seventeen_eighteen_pd = seventeen_eighteen_pd.drop(columns={\"Type\", \"Total Scope 1 Emissions \\n(t CO2-e)\",\"Total Scope 2 Emissions \\n(t CO2-e)\",\"Total Emissions \\n(t CO2-e)\", \"Emission Intensity \\n(t CO2-e/ MWh)\", \"Grid Connected\", \"Grid\"})\n",
    "twenty_twentyone = twenty_twentyone.drop(columns={\"Type\", \"Total scope 1 emissions \\n(t CO2-e)\",\"Total scope 2 emissions \\n(t CO2-e)\",\"Total emissions \\n(t CO2-e)\", \"Emission intensity \\n(t CO2-e/ MWh)\", \"Grid connected\", \"Grid\"})"
   ]
  },
  {
   "cell_type": "code",
   "execution_count": null,
   "metadata": {},
   "outputs": [],
   "source": [
    "# Add year column for filtering in plots\n",
    "fourteen_fiftenn_pd['Year'] = '2014-2015'\n",
    "seventeen_eighteen_pd['Year'] = '2017-2018'\n",
    "twenty_twentyone['Year'] = '2020-2021'"
   ]
  },
  {
   "cell_type": "markdown",
   "metadata": {},
   "source": [
    "API call for lats & lngs"
   ]
  },
  {
   "cell_type": "code",
   "execution_count": null,
   "metadata": {},
   "outputs": [],
   "source": [
    "# create a params dict that will be updated with new city each iteration\n",
    "params = {\"key\": api_key}\n",
    "\n",
    "# Loop through the cities_pd and run a lat/long search for each city\n",
    "for index, row in fourteen_fiftenn_pd.iterrows():\n",
    "    base_url = \"https://maps.googleapis.com/maps/api/geocode/json\"\n",
    "\n",
    "    location = row['Facility Name']\n",
    "    state = row['State']\n",
    "\n",
    "    # update address key value\n",
    "    params['address'] = f\"{location}+{state}\"\n",
    "\n",
    "    # make request\n",
    "    cities_lat_lng = requests.get(base_url, params=params)\n",
    "    \n",
    "    # print the cities_lat_lng url, avoid doing for public github repos in order to avoid exposing key\n",
    "    # print(cities_lat_lng.url)\n",
    "    \n",
    "#     # convert to json\n",
    "    cities_lat_lng = cities_lat_lng.json()\n",
    "    \n",
    "    try:\n",
    "        fourteen_fiftenn_pd.loc[index, \"Lat\"] = cities_lat_lng[\"results\"][0][\"geometry\"][\"location\"][\"lat\"]\n",
    "        fourteen_fiftenn_pd.loc[index, \"Lng\"] = cities_lat_lng[\"results\"][0][\"geometry\"][\"location\"][\"lng\"]\n",
    "    except (KeyError, IndexError):\n",
    "        fourteen_fiftenn_pd.loc[index, \"Lat\"] = \"NaN\"\n",
    "        fourteen_fiftenn_pd.loc[index, \"Lng\"] = \"NaN\"\n",
    "\n",
    "# Visualize to confirm lat lng appear\n",
    "fourteen_fiftenn_pd.head()"
   ]
  },
  {
   "cell_type": "code",
   "execution_count": null,
   "metadata": {},
   "outputs": [],
   "source": [
    "# create a params dict that will be updated with new city each iteration\n",
    "params = {\"key\": api_key}\n",
    "\n",
    "# Loop through the cities_pd and run a lat/long search for each city\n",
    "for index, row in seventeen_eighteen_pd.iterrows():\n",
    "    base_url = \"https://maps.googleapis.com/maps/api/geocode/json\"\n",
    "\n",
    "    location = row['Facility Name']\n",
    "    state = row['State']\n",
    "\n",
    "    # update address key value\n",
    "    params['address'] = f\"{location}+{state}\"\n",
    "\n",
    "    # make request\n",
    "    cities_lat_lng = requests.get(base_url, params=params)\n",
    "    \n",
    "    # print the cities_lat_lng url, avoid doing for public github repos in order to avoid exposing key\n",
    "    # print(cities_lat_lng.url)\n",
    "    \n",
    "#     # convert to json\n",
    "    cities_lat_lng = cities_lat_lng.json()\n",
    "    \n",
    "    try:\n",
    "        seventeen_eighteen_pd.loc[index, \"Lat\"] = cities_lat_lng[\"results\"][0][\"geometry\"][\"location\"][\"lat\"]\n",
    "        seventeen_eighteen_pd.loc[index, \"Lng\"] = cities_lat_lng[\"results\"][0][\"geometry\"][\"location\"][\"lng\"]\n",
    "    except (KeyError, IndexError):\n",
    "        seventeen_eighteen_pd.loc[index, \"Lat\"] = \"NaN\"\n",
    "        seventeen_eighteen_pd.loc[index, \"Lng\"] = \"NaN\"\n",
    "\n",
    "seventeen_eighteen_pd.head()"
   ]
  },
  {
   "cell_type": "code",
   "execution_count": null,
   "metadata": {},
   "outputs": [],
   "source": [
    "# create a params dict that will be updated with new city each iteration\n",
    "params = {\"key\": api_key}\n",
    "\n",
    "# Loop through the cities_pd and run a lat/long search for each city\n",
    "for index, row in twenty_twentyone.iterrows():\n",
    "    base_url = \"https://maps.googleapis.com/maps/api/geocode/json\"\n",
    "\n",
    "    location = row['Facility Name']\n",
    "    state = row['State']\n",
    "\n",
    "    # update address key value\n",
    "    params['address'] = f\"{location} + {state}\"\n",
    "\n",
    "    # make request\n",
    "    cities_lat_lng = requests.get(base_url, params=params)\n",
    "    \n",
    "    # print the cities_lat_lng url, avoid doing for public github repos in order to avoid exposing key\n",
    "    # print(cities_lat_lng.url)\n",
    "    \n",
    "#     # convert to json\n",
    "    cities_lat_lng = cities_lat_lng.json()\n",
    "    \n",
    "    try:\n",
    "        twenty_twentyone.loc[index, \"Lat\"] = cities_lat_lng[\"results\"][0][\"geometry\"][\"location\"][\"lat\"]\n",
    "        twenty_twentyone.loc[index, \"Lng\"] = cities_lat_lng[\"results\"][0][\"geometry\"][\"location\"][\"lng\"]\n",
    "    except (KeyError, IndexError):\n",
    "        twenty_twentyone.loc[index, \"Lat\"] = \"NaN\"\n",
    "        twenty_twentyone.loc[index, \"Lng\"] = \"NaN\"\n",
    "\n",
    "twenty_twentyone.head()"
   ]
  },
  {
   "cell_type": "code",
   "execution_count": null,
   "metadata": {},
   "outputs": [],
   "source": [
    "# Drop rows which returned no coordinates for facilities\n",
    "fourteen_fiftenn_pd = fourteen_fiftenn_pd[fourteen_fiftenn_pd['Lat'] != 'NaN']\n",
    "\n",
    "seventeen_eighteen_pd = seventeen_eighteen_pd[seventeen_eighteen_pd['Lat'] != 'NaN']\n",
    "\n",
    "twenty_twentyone = twenty_twentyone[twenty_twentyone['Lat'] != 'NaN']"
   ]
  },
  {
   "cell_type": "markdown",
   "metadata": {},
   "source": [
    "Clean up the populated dataframes"
   ]
  },
  {
   "cell_type": "code",
   "execution_count": null,
   "metadata": {},
   "outputs": [],
   "source": [
    "fourteen_fifteen_transformed = fourteen_fiftenn_pd.rename(columns={\"Reporting Entity \": \"Reporting_Entity\",\n",
    "                                                                   \"Facility Name\": \"Facility_Name\",\n",
    "                                                                   \"Electricity Production (GJ)\": \"Electricity_Production_GJ\",\n",
    "                                                                   \"Electricity Production (Mwh)\": \"Electricity_Production_MWh\",\n",
    "                                                                   \"Primary Fuel\": \"Primary_Fuel\"})"
   ]
  },
  {
   "cell_type": "code",
   "execution_count": null,
   "metadata": {},
   "outputs": [],
   "source": [
    "seventeen_eighteen_transformed = seventeen_eighteen_pd.rename(columns={\"Reporting Entity\": \"Reporting_Entity\",\n",
    "                                                                   \"Facility Name\": \"Facility_Name\",\n",
    "                                                                   \"Electricity Production (GJ)\": \"Electricity_Production_GJ\",\n",
    "                                                                   \"Electricity Production (MWh)\": \"Electricity_Production_MWh\",\n",
    "                                                                   \"Primary Fuel\": \"Primary_Fuel\"})"
   ]
  },
  {
   "cell_type": "code",
   "execution_count": null,
   "metadata": {},
   "outputs": [],
   "source": [
    "twenty_twentyone_transformed = twenty_twentyone.rename(columns={\"Reporting entity\": \"Reporting_Entity\",\n",
    "                                                                   \"Facility Name\": \"Facility_Name\",\n",
    "                                                                   \"Electricity production (GJ)\": \"Electricity_Production_GJ\",\n",
    "                                                                   \"Electricity production (MWh)\": \"Electricity_Production_MWh\",\n",
    "                                                                   \"Primary fuel\": \"Primary_Fuel\"})"
   ]
  },
  {
   "cell_type": "markdown",
   "metadata": {},
   "source": [
    "Categorize renewables"
   ]
  },
  {
   "cell_type": "code",
   "execution_count": null,
   "metadata": {},
   "outputs": [],
   "source": [
    "renewables = ['Hydro', 'Landfill Gas', 'Wind', 'Solar', 'Bagasse', 'Biofuel', 'Macadamia Nut Shells', 'Biogas']\n",
    "\n",
    "fourteen_fifteen_transformed['Renewable'] = fourteen_fifteen_transformed.Primary_Fuel.isin(renewables)\n",
    "seventeen_eighteen_transformed['Renewable'] = seventeen_eighteen_transformed.Primary_Fuel.isin(renewables)\n",
    "twenty_twentyone_transformed['Renewable'] = twenty_twentyone_transformed.Primary_Fuel.isin(renewables)"
   ]
  },
  {
   "cell_type": "markdown",
   "metadata": {},
   "source": [
    "Drop the index"
   ]
  },
  {
   "cell_type": "code",
   "execution_count": null,
   "metadata": {},
   "outputs": [],
   "source": [
    "fourteen_fifteen_transformed.drop(columns=['index'], inplace=True)\n",
    "seventeen_eighteen_transformed.drop(columns=['index'], inplace=True)\n",
    "twenty_twentyone_transformed.drop(columns=['index'], inplace=True)"
   ]
  },
  {
   "cell_type": "markdown",
   "metadata": {},
   "source": [
    "Export data as CSV"
   ]
  },
  {
   "cell_type": "code",
   "execution_count": null,
   "metadata": {},
   "outputs": [],
   "source": [
    "fourteen_fifteen_transformed.to_csv('../data/14-15.csv')\n",
    "seventeen_eighteen_transformed.to_csv('../data/17-18.csv')\n",
    "twenty_twentyone_transformed.to_csv('../data/20-21.csv')"
   ]
  }
 ],
 "metadata": {
  "kernelspec": {
   "display_name": "Python 3.10.3 64-bit",
   "language": "python",
   "name": "python3"
  },
  "language_info": {
   "name": "python",
   "version": "3.10.3"
  },
  "orig_nbformat": 4,
  "vscode": {
   "interpreter": {
    "hash": "007088b134d3533d5d837a4d5cd11b8d4b327e9b455e1d9063862fd58ad4808d"
   }
  }
 },
 "nbformat": 4,
 "nbformat_minor": 2
}
